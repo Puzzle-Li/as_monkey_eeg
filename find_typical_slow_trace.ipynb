{
 "cells": [
  {
   "cell_type": "markdown",
   "source": [
    "# Import modules"
   ],
   "metadata": {
    "collapsed": false
   },
   "id": "a3c808793efb3ee5"
  },
  {
   "cell_type": "code",
   "source": [
    "import glob\n",
    "import os.path\n",
    "import numpy as np\n",
    "import mne\n",
    "import matplotlib.pyplot as plt\n",
    "import pandas as pd\n",
    "import yasa\n",
    "\n",
    "plt.style.use('default')\n",
    "plt.rc('font', family='Arial')\n",
    "plt.rc('font', size=14)\n",
    "plt.rc('axes', unicode_minus=False)\n",
    "\n",
    "mne.set_log_level('CRITICAL')"
   ],
   "metadata": {
    "collapsed": false,
    "ExecuteTime": {
     "end_time": "2024-04-09T12:06:17.374849600Z",
     "start_time": "2024-04-09T12:06:04.653517Z"
    }
   },
   "id": "efa1aa6bf255cb9a",
   "execution_count": 1,
   "outputs": []
  },
  {
   "cell_type": "markdown",
   "source": [
    "# Import data and preprocessing"
   ],
   "metadata": {
    "collapsed": false
   },
   "id": "761fbb97827ca8fa"
  },
  {
   "cell_type": "code",
   "source": [
    "import dataset\n",
    "\n",
    "path_data = dataset.data_path\n",
    "files = glob.glob(os.path.join(path_data, '**', 'raw_clean.fif'), recursive=True)"
   ],
   "metadata": {
    "collapsed": false,
    "ExecuteTime": {
     "end_time": "2024-04-09T12:06:17.408759100Z",
     "start_time": "2024-04-09T12:06:17.377841100Z"
    }
   },
   "id": "cf996c8b27c1793b",
   "execution_count": 2,
   "outputs": []
  },
  {
   "cell_type": "code",
   "source": [
    "df_info = pd.read_excel('info.xlsx', index_col=0)"
   ],
   "metadata": {
    "collapsed": false,
    "ExecuteTime": {
     "end_time": "2024-04-09T12:06:22.612271700Z",
     "start_time": "2024-04-09T12:06:17.406764Z"
    }
   },
   "id": "c971d024bc889295",
   "execution_count": 3,
   "outputs": []
  },
  {
   "cell_type": "code",
   "source": [
    "typical_traces = []\n",
    "\n",
    "df_power_epochs = pd.DataFrame()\n",
    "\n",
    "for file in files:\n",
    "    animal, session = np.array(file.split('\\\\'))[[-3, -2]]\n",
    "    \n",
    "    group = df_info.loc[animal, 'Genotype']\n",
    "    \n",
    "    raw = mne.io.read_raw_fif(file, preload=True, verbose=False)\n",
    "    raw._data[np.isnan(raw._data)] = 0\n",
    "\n",
    "    epochs = mne.make_fixed_length_epochs(raw, duration=3, preload=True)\n",
    "    epochs.drop_bad(flat=dict(eeg=5e-6), reject={'bio': 25e-6, 'eeg': 120e-6})\n",
    "\n",
    "    if len(epochs)==0:\n",
    "        continue\n",
    "\n",
    "    power_epochs = epochs.compute_psd()\n",
    "    freqs = power_epochs.freqs\n",
    "    band_power = pd.DataFrame()\n",
    "    for power_epoch in power_epochs:\n",
    "        power = power_epoch.squeeze()\n",
    "\n",
    "        df = yasa.bandpower_from_psd(power, freqs, relative=False)\n",
    "        band_power = pd.concat([band_power, df])\n",
    "    \n",
    "    band_power['Animal'] = animal\n",
    "    band_power['Genotype'] = group\n",
    "    df_power_epochs = pd.concat([df_power_epochs, band_power])\n",
    "    \n",
    "    if group == 'WT':\n",
    "    \n",
    "        idx_max_delta = np.argmin(band_power['Delta'])\n",
    "    else:\n",
    "        idx_max_delta = np.argmax(band_power['Delta'])\n",
    "        \n",
    "    typical_trace = epochs[idx_max_delta].copy().pick('eeg').get_data(units='uV').squeeze()\n",
    "    typical_traces.append((animal, typical_trace))\n",
    "\n",
    "    # plt.plot(epochs.times, typical_trace)\n",
    "    # plt.show()"
   ],
   "metadata": {
    "collapsed": false,
    "ExecuteTime": {
     "end_time": "2024-04-09T12:06:46.970291400Z",
     "start_time": "2024-04-09T12:06:22.618255100Z"
    }
   },
   "id": "1d2b86941ac5f6a5",
   "execution_count": 4,
   "outputs": []
  },
  {
   "cell_type": "code",
   "source": [
    "\n",
    "\n",
    "row_upper = 0\n",
    "row_lower = 0\n",
    "offset= 100\n",
    "\n",
    "color_map = {\n",
    "    'Mutant': 'tab:red',\n",
    "    'WT': 'tab:grey',\n",
    "}\n",
    "\n",
    "ticks = []\n",
    "ticklabels = []\n",
    "\n",
    "l = {}\n",
    "\n",
    "plt.figure(figsize=(6, len(typical_traces)*1.2))\n",
    "\n",
    "for animal, trace in typical_traces:\n",
    "    group = df_info.loc[animal, 'Genotype']\n",
    "    if  group == 'Mutant':\n",
    "        row_upper+=1\n",
    "        row = row_upper\n",
    "    else:\n",
    "        row_lower-=1\n",
    "        row = row_lower\n",
    "        \n",
    "    ticks.append(offset * row)\n",
    "    ticklabels.append(animal)\n",
    "    \n",
    "    \n",
    "    l[df_info.loc[animal, 'Genotype']] = plt.plot(epochs.times, trace + offset * row, label=animal, color=color_map[group])\n",
    "    plt.hlines(offset * row, 0, 3, colors='grey', linewidth=0.2)\n",
    "\n",
    "ruler_shift = (0.2, offset*1.1)\n",
    "\n",
    "plt.hlines(min(ticks)-ruler_shift[1], 2.5 + ruler_shift[0], 3+ruler_shift[0], colors='k')\n",
    "\n",
    "plt.vlines(3+ruler_shift[0], min(ticks)-ruler_shift[1], min(ticks)-ruler_shift[1] + 100, colors='k')\n",
    "# plt.text(2.8,min(ticks)-offset*1.9,'0.5s')\n",
    "plt.gca().set(frame_on=False)\n",
    "plt.yticks(ticks, labels=ticklabels)\n",
    "# plt.grid(axis='y')\n",
    "plt.xlim(0, 3.5)\n",
    "plt.gca().axes.get_xaxis().set_visible(False)\n",
    "\n",
    "\n"
   ],
   "metadata": {
    "collapsed": false,
    "ExecuteTime": {
     "end_time": "2024-04-09T12:06:47.675435600Z",
     "start_time": "2024-04-09T12:06:46.968296900Z"
    }
   },
   "id": "df337eb99a143fca",
   "execution_count": 5,
   "outputs": []
  },
  {
   "cell_type": "code",
   "source": [
    "df_power_epochs_plot = df_power_epochs.copy()\n",
    "df_power_epochs_plot['Delta'] = 1e9*df_power_epochs_plot['Delta']"
   ],
   "metadata": {
    "collapsed": false,
    "ExecuteTime": {
     "end_time": "2024-04-09T12:06:47.687404Z",
     "start_time": "2024-04-09T12:06:47.672444300Z"
    }
   },
   "id": "9182e698b2fc3f3c",
   "execution_count": 6,
   "outputs": []
  },
  {
   "cell_type": "code",
   "source": [
    "import seaborn as sns\n",
    "\n",
    "sns.histplot(data = df_power_epochs_plot, x='Delta', hue='Genotype', palette=['tab:gray', 'tab:red'], hue_order=['WT', 'Mutant'], binwidth=2, stat='percent')\n",
    "plt.xlabel('Delta power (μV^2) × 1e3')\n",
    "plt.xlim(0, 120)\n",
    "plt.ylabel('Percent')"
   ],
   "metadata": {
    "collapsed": false,
    "ExecuteTime": {
     "end_time": "2024-04-09T12:06:48.130219Z",
     "start_time": "2024-04-09T12:06:47.688401200Z"
    }
   },
   "id": "e0b4dedf7b37bab8",
   "execution_count": 7,
   "outputs": []
  }
 ],
 "metadata": {
  "kernelspec": {
   "display_name": "Python 3",
   "language": "python",
   "name": "python3"
  },
  "language_info": {
   "codemirror_mode": {
    "name": "ipython",
    "version": 2
   },
   "file_extension": ".py",
   "mimetype": "text/x-python",
   "name": "python",
   "nbconvert_exporter": "python",
   "pygments_lexer": "ipython2",
   "version": "2.7.6"
  }
 },
 "nbformat": 4,
 "nbformat_minor": 5
}
