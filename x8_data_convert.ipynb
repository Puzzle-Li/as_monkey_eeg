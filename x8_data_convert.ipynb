{
 "cells": [
  {
   "cell_type": "code",
   "execution_count": 10,
   "id": "83bcd1bd605c450e",
   "metadata": {
    "collapsed": false,
    "ExecuteTime": {
     "end_time": "2024-04-12T03:14:12.432690100Z",
     "start_time": "2024-04-12T03:14:12.423714700Z"
    }
   },
   "outputs": [],
   "source": [
    "import glob\n",
    "import os.path\n",
    "\n",
    "import matplotlib.pyplot as plt\n",
    "import mne.io\n",
    "import numpy as np\n",
    "import yasa\n",
    "\n",
    "mne.set_log_level('CRITICAL')"
   ]
  },
  {
   "cell_type": "code",
   "outputs": [],
   "source": [
    "import dataset\n",
    "\n",
    "path_data = dataset.data_path\n",
    "animals = os.listdir(path_data)\n"
   ],
   "metadata": {
    "collapsed": false,
    "ExecuteTime": {
     "end_time": "2024-04-12T03:14:12.462610200Z",
     "start_time": "2024-04-12T03:14:12.436679900Z"
    }
   },
   "id": "783d00a7924361ca",
   "execution_count": 11
  },
  {
   "cell_type": "code",
   "outputs": [],
   "source": [
    "def acc_to_locomotion(acc):\n",
    "    loco = np.std(np.concatenate([np.zeros((3, 1)), np.diff(acc)], axis=1), axis=0).reshape(1, -1)\n",
    "    return loco\n"
   ],
   "metadata": {
    "collapsed": false,
    "ExecuteTime": {
     "end_time": "2024-04-12T03:14:12.463608100Z",
     "start_time": "2024-04-12T03:14:12.445655300Z"
    }
   },
   "id": "88f0459a07455d9e",
   "execution_count": 12
  },
  {
   "cell_type": "code",
   "outputs": [],
   "source": [
    "for animal in animals:\n",
    "    sessions = os.listdir(os.path.join(path_data, animal))\n",
    "    \n",
    "    for session in sessions:\n",
    "    \n",
    "        path_session = os.path.join(path_data, animal, session)\n",
    "        \n",
    "        file = glob.glob(os.path.join(path_session, '**merge.edf'), recursive=True)[0]\n",
    "        raw = mne.io.read_raw_edf(file, preload=True)\n",
    "        loco = acc_to_locomotion(raw.get_data()[-3:,:]) / 1e6\n",
    "        raw = raw.pick(['EEG0', 'ACC0'])\n",
    "        raw._data[-1,:] = loco\n",
    "        raw.rename_channels({'EEG0': 'P4-M1', 'ACC0':'Loco'})\n",
    "        raw.set_channel_types({'P4-M1':'eeg', 'Loco':'bio'})\n",
    "    \n",
    "        raw.resample(250)\n",
    "        raw.export(os.path.join(path_session, 'raw.edf'), overwrite=True)"
   ],
   "metadata": {
    "collapsed": false,
    "ExecuteTime": {
     "end_time": "2024-04-12T03:14:52.498640800Z",
     "start_time": "2024-04-12T03:14:12.463608100Z"
    }
   },
   "id": "47448c33d1fe7082",
   "execution_count": 13
  }
 ],
 "metadata": {
  "kernelspec": {
   "display_name": "Python 3",
   "language": "python",
   "name": "python3"
  },
  "language_info": {
   "codemirror_mode": {
    "name": "ipython",
    "version": 2
   },
   "file_extension": ".py",
   "mimetype": "text/x-python",
   "name": "python",
   "nbconvert_exporter": "python",
   "pygments_lexer": "ipython2",
   "version": "2.7.6"
  }
 },
 "nbformat": 4,
 "nbformat_minor": 5
}
