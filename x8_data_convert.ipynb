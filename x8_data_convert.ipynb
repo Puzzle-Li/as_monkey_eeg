{
 "cells": [
  {
   "cell_type": "code",
   "execution_count": 3,
   "id": "83bcd1bd605c450e",
   "metadata": {
    "collapsed": false,
    "ExecuteTime": {
     "end_time": "2024-03-13T10:29:33.942174700Z",
     "start_time": "2024-03-13T10:29:27.257234300Z"
    }
   },
   "outputs": [],
   "source": [
    "import glob\n",
    "import os.path\n",
    "\n",
    "import matplotlib.pyplot as plt\n",
    "import mne.io\n",
    "import numpy as np\n",
    "import yasa"
   ]
  },
  {
   "cell_type": "code",
   "outputs": [],
   "source": [
    "path_data = r'C:\\Users\\HP\\PycharmProjects\\as_monkey_eeg\\X8_data'\n",
    "animals = os.listdir(path_data)\n"
   ],
   "metadata": {
    "collapsed": false,
    "ExecuteTime": {
     "end_time": "2024-03-13T10:29:35.905845600Z",
     "start_time": "2024-03-13T10:29:35.899861400Z"
    }
   },
   "id": "783d00a7924361ca",
   "execution_count": 4
  },
  {
   "cell_type": "code",
   "outputs": [
    {
     "name": "stdout",
     "output_type": "stream",
     "text": [
      "Extracting EDF parameters from C:\\Users\\HP\\PycharmProjects\\as_monkey_eeg\\X8_data\\0629\\2024-03-09\\eeg.edf...\n",
      "EDF file detected\n",
      "Setting channel info structure...\n",
      "Creating raw.info structure...\n",
      "Reading 0 ... 1150877  =      0.000 ...  2310.998 secs...\n",
      "Extracting EDF parameters from C:\\Users\\HP\\PycharmProjects\\as_monkey_eeg\\X8_data\\0629\\2024-03-09\\acc.edf...\n",
      "EDF file detected\n",
      "Setting channel info structure...\n",
      "Creating raw.info structure...\n",
      "Reading 0 ... 115100  =      0.000 ...  2348.980 secs...\n",
      "Overwriting existing file.\n",
      "Extracting EDF parameters from C:\\Users\\HP\\PycharmProjects\\as_monkey_eeg\\X8_data\\0633\\2024-03-09\\eeg.edf...\n",
      "EDF file detected\n",
      "Setting channel info structure...\n",
      "Creating raw.info structure...\n",
      "Reading 0 ... 1331153  =      0.000 ...  2672.998 secs...\n",
      "Extracting EDF parameters from C:\\Users\\HP\\PycharmProjects\\as_monkey_eeg\\X8_data\\0633\\2024-03-09\\acc.edf...\n",
      "EDF file detected\n",
      "Setting channel info structure...\n",
      "Creating raw.info structure...\n",
      "Reading 0 ... 133083  =      0.000 ...  2715.980 secs...\n"
     ]
    },
    {
     "name": "stderr",
     "output_type": "stream",
     "text": [
      "C:\\Users\\HP\\AppData\\Local\\Temp\\ipykernel_25080\\1560173663.py:32: RuntimeWarning: EDF format requires equal-length data blocks, so 0.244 seconds of zeros were appended to all channels when writing the final block.\n",
      "  raw.export(os.path.join(path_session, 'raw.edf'), overwrite=True)\n"
     ]
    },
    {
     "name": "stdout",
     "output_type": "stream",
     "text": [
      "Overwriting existing file.\n",
      "Extracting EDF parameters from C:\\Users\\HP\\PycharmProjects\\as_monkey_eeg\\X8_data\\0635\\2024-03-11\\eeg.edf...\n",
      "EDF file detected\n",
      "Setting channel info structure...\n",
      "Creating raw.info structure...\n",
      "Reading 0 ... 1010939  =      0.000 ...  2029.998 secs...\n",
      "Extracting EDF parameters from C:\\Users\\HP\\PycharmProjects\\as_monkey_eeg\\X8_data\\0635\\2024-03-11\\acc.edf...\n",
      "EDF file detected\n",
      "Setting channel info structure...\n",
      "Creating raw.info structure...\n",
      "Reading 0 ... 101086  =      0.000 ...  2062.980 secs...\n"
     ]
    },
    {
     "name": "stderr",
     "output_type": "stream",
     "text": [
      "C:\\Users\\HP\\AppData\\Local\\Temp\\ipykernel_25080\\1560173663.py:32: RuntimeWarning: EDF format requires equal-length data blocks, so 0.692 seconds of zeros were appended to all channels when writing the final block.\n",
      "  raw.export(os.path.join(path_session, 'raw.edf'), overwrite=True)\n"
     ]
    },
    {
     "name": "stdout",
     "output_type": "stream",
     "text": [
      "Overwriting existing file.\n",
      "Extracting EDF parameters from C:\\Users\\HP\\PycharmProjects\\as_monkey_eeg\\X8_data\\0637\\2024-03-08\\eeg.edf...\n",
      "EDF file detected\n",
      "Setting channel info structure...\n",
      "Creating raw.info structure...\n",
      "Reading 0 ... 973091  =      0.000 ...  1953.998 secs...\n",
      "Extracting EDF parameters from C:\\Users\\HP\\PycharmProjects\\as_monkey_eeg\\X8_data\\0637\\2024-03-08\\acc.edf...\n",
      "EDF file detected\n",
      "Setting channel info structure...\n",
      "Creating raw.info structure...\n",
      "Reading 0 ... 97313  =      0.000 ...  1985.980 secs...\n"
     ]
    },
    {
     "name": "stderr",
     "output_type": "stream",
     "text": [
      "C:\\Users\\HP\\AppData\\Local\\Temp\\ipykernel_25080\\1560173663.py:32: RuntimeWarning: EDF format requires equal-length data blocks, so 0.12 seconds of zeros were appended to all channels when writing the final block.\n",
      "  raw.export(os.path.join(path_session, 'raw.edf'), overwrite=True)\n"
     ]
    },
    {
     "name": "stdout",
     "output_type": "stream",
     "text": [
      "Overwriting existing file.\n",
      "Extracting EDF parameters from C:\\Users\\HP\\PycharmProjects\\as_monkey_eeg\\X8_data\\0760\\2024-03-12\\eeg.edf...\n",
      "EDF file detected\n",
      "Setting channel info structure...\n",
      "Creating raw.info structure...\n",
      "Reading 0 ... 1101575  =      0.000 ...  2211.998 secs...\n",
      "Extracting EDF parameters from C:\\Users\\HP\\PycharmProjects\\as_monkey_eeg\\X8_data\\0760\\2024-03-12\\acc.edf...\n",
      "EDF file detected\n",
      "Setting channel info structure...\n",
      "Creating raw.info structure...\n",
      "Reading 0 ... 110151  =      0.000 ...  2247.980 secs...\n"
     ]
    },
    {
     "name": "stderr",
     "output_type": "stream",
     "text": [
      "C:\\Users\\HP\\AppData\\Local\\Temp\\ipykernel_25080\\1560173663.py:32: RuntimeWarning: EDF format requires equal-length data blocks, so 0.816 seconds of zeros were appended to all channels when writing the final block.\n",
      "  raw.export(os.path.join(path_session, 'raw.edf'), overwrite=True)\n"
     ]
    },
    {
     "name": "stdout",
     "output_type": "stream",
     "text": [
      "Overwriting existing file.\n",
      "Extracting EDF parameters from C:\\Users\\HP\\PycharmProjects\\as_monkey_eeg\\X8_data\\0792\\2024-03-12\\eeg.edf...\n",
      "EDF file detected\n",
      "Setting channel info structure...\n",
      "Creating raw.info structure...\n",
      "Reading 0 ... 1407347  =      0.000 ...  2825.998 secs...\n",
      "Extracting EDF parameters from C:\\Users\\HP\\PycharmProjects\\as_monkey_eeg\\X8_data\\0792\\2024-03-12\\acc.edf...\n",
      "EDF file detected\n",
      "Setting channel info structure...\n",
      "Creating raw.info structure...\n",
      "Reading 0 ... 140727  =      0.000 ...  2871.980 secs...\n"
     ]
    },
    {
     "name": "stderr",
     "output_type": "stream",
     "text": [
      "C:\\Users\\HP\\AppData\\Local\\Temp\\ipykernel_25080\\1560173663.py:32: RuntimeWarning: EDF format requires equal-length data blocks, so 0.848 seconds of zeros were appended to all channels when writing the final block.\n",
      "  raw.export(os.path.join(path_session, 'raw.edf'), overwrite=True)\n"
     ]
    },
    {
     "name": "stdout",
     "output_type": "stream",
     "text": [
      "Overwriting existing file.\n",
      "Extracting EDF parameters from C:\\Users\\HP\\PycharmProjects\\as_monkey_eeg\\X8_data\\0800\\2024-03-08\\eeg.edf...\n",
      "EDF file detected\n",
      "Setting channel info structure...\n",
      "Creating raw.info structure...\n",
      "Reading 0 ... 1308743  =      0.000 ...  2627.998 secs...\n",
      "Extracting EDF parameters from C:\\Users\\HP\\PycharmProjects\\as_monkey_eeg\\X8_data\\0800\\2024-03-08\\acc.edf...\n",
      "EDF file detected\n",
      "Setting channel info structure...\n",
      "Creating raw.info structure...\n",
      "Reading 0 ... 130878  =      0.000 ...  2670.980 secs...\n"
     ]
    },
    {
     "name": "stderr",
     "output_type": "stream",
     "text": [
      "C:\\Users\\HP\\AppData\\Local\\Temp\\ipykernel_25080\\1560173663.py:32: RuntimeWarning: EDF format requires equal-length data blocks, so 0.304 seconds of zeros were appended to all channels when writing the final block.\n",
      "  raw.export(os.path.join(path_session, 'raw.edf'), overwrite=True)\n"
     ]
    },
    {
     "name": "stdout",
     "output_type": "stream",
     "text": [
      "Overwriting existing file.\n"
     ]
    },
    {
     "name": "stderr",
     "output_type": "stream",
     "text": [
      "C:\\Users\\HP\\AppData\\Local\\Temp\\ipykernel_25080\\1560173663.py:32: RuntimeWarning: EDF format requires equal-length data blocks, so 0.512 seconds of zeros were appended to all channels when writing the final block.\n",
      "  raw.export(os.path.join(path_session, 'raw.edf'), overwrite=True)\n"
     ]
    }
   ],
   "source": [
    "def acc_to_locomotion(acc):\n",
    "    loco = np.std(np.concatenate([np.zeros((3, 1)), np.diff(acc)], axis=1), axis=0).reshape(1, -1)\n",
    "    return loco\n",
    "\n",
    "for animal in animals:\n",
    "    sessions = os.listdir(os.path.join(path_data, animal))\n",
    "    \n",
    "    for session in sessions:\n",
    "    \n",
    "        path_session = os.path.join(path_data, animal, session)\n",
    "        \n",
    "        file_eeg = glob.glob(os.path.join(path_session, '**eeg.edf'), recursive=True)[0]\n",
    "        file_acc = glob.glob(os.path.join(path_session, '**acc.edf'), recursive=True)[0]\n",
    "        \n",
    "        raw = mne.io.read_raw_edf(file_eeg, preload=True)\n",
    "        raw2 = mne.io.read_raw_edf(file_acc, preload=True)\n",
    "        \n",
    "        raw.pick('EEG0')\n",
    "        \n",
    "        loco = acc_to_locomotion(raw2.get_data()) / 1e6\n",
    "        info = mne.create_info(ch_names=['Loco'], sfreq=raw2.info['sfreq'], ch_types='bio', verbose=False)\n",
    "        raw3 = mne.io.RawArray(loco, info, verbose=False)\n",
    "        raw3.resample(raw.info['sfreq'])\n",
    "        \n",
    "        tmax = min([raw.times[-1], raw3.times[-1]])\n",
    "        raw.crop(0,tmax)\n",
    "        raw3.crop(0,tmax)\n",
    "        \n",
    "        data = np.concatenate([raw.get_data(), raw3.get_data()], axis=0)\n",
    "        info = mne.create_info(ch_names=['EEG', 'Loco'], sfreq=500, ch_types=['eeg', 'bio'], verbose=False)\n",
    "        raw = mne.io.RawArray(data, info, verbose=False)\n",
    "        raw.export(os.path.join(path_session, 'raw.edf'), overwrite=True)"
   ],
   "metadata": {
    "collapsed": true,
    "ExecuteTime": {
     "end_time": "2024-03-13T10:42:46.209160400Z",
     "start_time": "2024-03-13T10:42:30.457289600Z"
    }
   },
   "id": "initial_id",
   "execution_count": 6
  }
 ],
 "metadata": {
  "kernelspec": {
   "display_name": "Python 3",
   "language": "python",
   "name": "python3"
  },
  "language_info": {
   "codemirror_mode": {
    "name": "ipython",
    "version": 2
   },
   "file_extension": ".py",
   "mimetype": "text/x-python",
   "name": "python",
   "nbconvert_exporter": "python",
   "pygments_lexer": "ipython2",
   "version": "2.7.6"
  }
 },
 "nbformat": 4,
 "nbformat_minor": 5
}
