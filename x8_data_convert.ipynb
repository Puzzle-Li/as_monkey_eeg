{
 "cells": [
  {
   "cell_type": "code",
   "id": "83bcd1bd605c450e",
   "metadata": {
    "collapsed": false,
    "ExecuteTime": {
     "end_time": "2024-05-30T11:22:28.810718Z",
     "start_time": "2024-05-30T11:22:28.806244Z"
    }
   },
   "source": [
    "import datetime\n",
    "import glob\n",
    "import os.path\n",
    "\n",
    "import matplotlib.pyplot as plt\n",
    "import mne.io\n",
    "import numpy as np\n",
    "import yasa\n",
    "\n",
    "mne.set_log_level('CRITICAL')"
   ],
   "execution_count": 10,
   "outputs": []
  },
  {
   "cell_type": "code",
   "source": [
    "import dataset\n",
    "\n",
    "path_data = dataset.path['raw']\n",
    "animals = os.listdir(path_data)\n"
   ],
   "metadata": {
    "collapsed": false,
    "ExecuteTime": {
     "end_time": "2024-05-30T11:01:32.917947Z",
     "start_time": "2024-05-30T11:01:32.903956Z"
    }
   },
   "id": "783d00a7924361ca",
   "execution_count": 6,
   "outputs": []
  },
  {
   "cell_type": "code",
   "source": [
    "def acc_to_locomotion(acc):\n",
    "    loco = np.linalg.norm(np.concatenate([np.zeros((3, 1)), np.diff(acc)], axis=1), axis=0).reshape(1, -1)\n",
    "    return loco\n"
   ],
   "metadata": {
    "collapsed": false,
    "ExecuteTime": {
     "end_time": "2024-05-30T11:01:32.933707Z",
     "start_time": "2024-05-30T11:01:32.919913Z"
    }
   },
   "id": "88f0459a07455d9e",
   "execution_count": 7,
   "outputs": []
  },
  {
   "cell_type": "code",
   "source": [
    "for animal in animals:\n",
    "    sessions = os.listdir(os.path.join(path_data, animal))\n",
    "    \n",
    "    for session in sessions:\n",
    "    \n",
    "        path_session = os.path.join(path_data, animal, session)\n",
    "        \n",
    "        file = glob.glob(os.path.join(path_session, '**merge.edf'), recursive=True)[0]\n",
    "        raw = mne.io.read_raw_edf(file, preload=True)\n",
    "        loco = acc_to_locomotion(raw.get_data()[-3:,:]) / 1e6\n",
    "        raw = raw.pick(['EEG0', 'ACC0'])\n",
    "        raw._data[-1,:] = loco\n",
    "        raw.rename_channels({'EEG0': 'P4-M1', 'ACC0':'Loco'})\n",
    "        raw.set_channel_types({'P4-M1':'eeg', 'Loco':'bio'})\n",
    "    \n",
    "        raw.resample(250)\n",
    "        path_out = path_session.replace(path_data, dataset.path['tmp'])\n",
    "        if not os.path.exists(path_out):\n",
    "            os.makedirs(path_out)\n",
    "            \n",
    "        raw.crop(5 * 60, None)\n",
    "        raw.set_meas_date(raw.info['meas_date'] + datetime.timedelta(seconds= 5 *60))\n",
    "        raw.export(os.path.join(path_out, 'raw.edf'), overwrite=True)"
   ],
   "metadata": {
    "collapsed": false,
    "ExecuteTime": {
     "end_time": "2024-05-30T11:23:50.554361Z",
     "start_time": "2024-05-30T11:22:29.929324Z"
    }
   },
   "id": "47448c33d1fe7082",
   "execution_count": 11,
   "outputs": []
  },
  {
   "metadata": {},
   "cell_type": "code",
   "execution_count": null,
   "source": "",
   "id": "1e1ee7e048468bb5",
   "outputs": []
  }
 ],
 "metadata": {
  "kernelspec": {
   "display_name": "Python 3",
   "language": "python",
   "name": "python3"
  },
  "language_info": {
   "codemirror_mode": {
    "name": "ipython",
    "version": 2
   },
   "file_extension": ".py",
   "mimetype": "text/x-python",
   "name": "python",
   "nbconvert_exporter": "python",
   "pygments_lexer": "ipython2",
   "version": "2.7.6"
  }
 },
 "nbformat": 4,
 "nbformat_minor": 5
}
