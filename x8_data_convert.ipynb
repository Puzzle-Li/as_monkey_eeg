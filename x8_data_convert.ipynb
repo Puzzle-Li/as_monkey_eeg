{
 "cells": [
  {
   "cell_type": "code",
   "execution_count": 1,
   "id": "83bcd1bd605c450e",
   "metadata": {
    "collapsed": false,
    "ExecuteTime": {
     "end_time": "2024-03-14T11:45:58.516253500Z",
     "start_time": "2024-03-14T11:45:44.140694Z"
    }
   },
   "outputs": [],
   "source": [
    "import glob\n",
    "import os.path\n",
    "\n",
    "import matplotlib.pyplot as plt\n",
    "import mne.io\n",
    "import numpy as np\n",
    "import yasa\n",
    "\n",
    "mne.set_log_level('CRITICAL')"
   ]
  },
  {
   "cell_type": "code",
   "outputs": [],
   "source": [
    "path_data = r'C:\\Users\\HP\\PycharmProjects\\as_monkey_eeg\\X8_data'\n",
    "animals = os.listdir(path_data)\n"
   ],
   "metadata": {
    "collapsed": false,
    "ExecuteTime": {
     "end_time": "2024-03-14T11:45:58.543180800Z",
     "start_time": "2024-03-14T11:45:58.517250800Z"
    }
   },
   "id": "783d00a7924361ca",
   "execution_count": 2
  },
  {
   "cell_type": "code",
   "outputs": [],
   "source": [
    "def acc_to_locomotion(acc):\n",
    "    loco = np.std(np.concatenate([np.zeros((3, 1)), np.diff(acc)], axis=1), axis=0).reshape(1, -1)\n",
    "    return loco\n",
    "\n",
    "for animal in animals:\n",
    "    sessions = os.listdir(os.path.join(path_data, animal))\n",
    "    \n",
    "    for session in sessions:\n",
    "    \n",
    "        path_session = os.path.join(path_data, animal, session)\n",
    "        \n",
    "        file_eeg = glob.glob(os.path.join(path_session, '**eeg.edf'), recursive=True)[0]\n",
    "        file_acc = glob.glob(os.path.join(path_session, '**acc.edf'), recursive=True)[0]\n",
    "        \n",
    "        raw = mne.io.read_raw_edf(file_eeg, preload=True)\n",
    "        raw2 = mne.io.read_raw_edf(file_acc, preload=True)\n",
    "        \n",
    "        raw.pick('EEG0')\n",
    "        \n",
    "        loco = acc_to_locomotion(raw2.get_data()) / 1e6\n",
    "        info = mne.create_info(ch_names=['Loco'], sfreq=raw2.info['sfreq'], ch_types='bio', verbose=False)\n",
    "        raw3 = mne.io.RawArray(loco, info, verbose=False)\n",
    "        raw3.resample(raw.info['sfreq'])\n",
    "        \n",
    "        tmax = min([raw.times[-1], raw3.times[-1]])\n",
    "        raw.crop(0,tmax)\n",
    "        raw3.crop(0,tmax)\n",
    "        \n",
    "        data = np.concatenate([raw.get_data(), raw3.get_data()], axis=0)\n",
    "        info = mne.create_info(ch_names=['EEG', 'Loco'], sfreq=raw.info['sfreq'], ch_types=['eeg', 'bio'], verbose=False)\n",
    "        raw = mne.io.RawArray(data, info, verbose=False)\n",
    "        raw.resample(250)\n",
    "        raw.export(os.path.join(path_session, 'raw.edf'), overwrite=True)"
   ],
   "metadata": {
    "collapsed": true,
    "ExecuteTime": {
     "end_time": "2024-03-14T11:46:17.561958100Z",
     "start_time": "2024-03-14T11:45:58.538195300Z"
    }
   },
   "id": "initial_id",
   "execution_count": 3
  }
 ],
 "metadata": {
  "kernelspec": {
   "display_name": "Python 3",
   "language": "python",
   "name": "python3"
  },
  "language_info": {
   "codemirror_mode": {
    "name": "ipython",
    "version": 2
   },
   "file_extension": ".py",
   "mimetype": "text/x-python",
   "name": "python",
   "nbconvert_exporter": "python",
   "pygments_lexer": "ipython2",
   "version": "2.7.6"
  }
 },
 "nbformat": 4,
 "nbformat_minor": 5
}
