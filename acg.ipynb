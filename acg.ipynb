{
 "cells": [
  {
   "metadata": {},
   "cell_type": "markdown",
   "source": "我们需要了解一下ACG的数值在各个动作中的特点，因此我们演示了以下动作，并记录了ACG数据。每个动作进行了10s。在动作间有10s的静息期。",
   "id": "5286e4a88eff1e37"
  },
  {
   "cell_type": "code",
   "id": "72b2b19d2f7f772a",
   "metadata": {
    "collapsed": true,
    "ExecuteTime": {
     "end_time": "2024-08-03T10:43:26.352923Z",
     "start_time": "2024-08-03T10:43:26.334778Z"
    }
   },
   "source": [
    "import datetime\n",
    "import os.path\n",
    "\n",
    "import mne.io\n",
    "import pandas as pd\n",
    "\n",
    "import dataset as ds"
   ],
   "outputs": [],
   "execution_count": 167
  },
  {
   "metadata": {
    "ExecuteTime": {
     "end_time": "2024-08-03T10:43:26.368882Z",
     "start_time": "2024-08-03T10:43:26.354904Z"
    }
   },
   "cell_type": "code",
   "source": [
    "def acc_to_locomotion2(acc):\n",
    "    loco = np.linalg.norm(acc, axis=0).reshape(1, -1)\n",
    "    return loco"
   ],
   "id": "a444f3e9ddfda2a1",
   "outputs": [],
   "execution_count": 168
  },
  {
   "metadata": {
    "ExecuteTime": {
     "end_time": "2024-08-03T10:43:26.480568Z",
     "start_time": "2024-08-03T10:43:26.402777Z"
    }
   },
   "cell_type": "code",
   "source": [
    "from convert_x8_data import acc_to_locomotion\n",
    "\n",
    "path = os.path.join(ds.path['free_eeg'], 'test', 'acg')\n",
    "raw = mne.io.read_raw_edf(os.path.join(path, 'action_acg_2.edf'), preload=True)\n",
    "\n",
    "loco = acc_to_locomotion(raw.get_data()[-3:, :]) / 1e6\n",
    "loco2 = acc_to_locomotion2(raw.get_data()[-3:, :]) / 1e6\n",
    "loco2 = acc_to_locomotion2(raw.get_data()[-3:, :]) / 1e6\n",
    "raw._data[1, :] = loco\n",
    "# raw._data[0, :] = loco2\n",
    "raw._data[2:, :] /= 1e6\n",
    "\n",
    "raw.rename_channels({'EEG1': 'ACG'})\n",
    "# raw.rename_channels({'EEG0': 'ACG2'})"
   ],
   "id": "initial_id",
   "outputs": [
    {
     "data": {
      "text/plain": [
       "<RawEDF | action_acg_2.edf, 5 x 210120 (408.0 s), ~8.0 MB, data loaded>"
      ],
      "text/html": [
       "<details open>\n",
       "    <summary><strong>General</strong></summary>\n",
       "    <table class=\"table table-hover table-striped table-sm table-responsive small\">\n",
       "        <tr>\n",
       "            <th>Measurement date</th>\n",
       "            \n",
       "            <td>August 03, 2024  18:02:15 GMT</td>\n",
       "            \n",
       "        </tr>\n",
       "        <tr>\n",
       "            <th>Experimenter</th>\n",
       "            \n",
       "            <td>Unknown</td>\n",
       "            \n",
       "        </tr>\n",
       "        <tr>\n",
       "            <th>Participant</th>\n",
       "            \n",
       "            \n",
       "            <td>X</td>\n",
       "            \n",
       "            \n",
       "        </tr>\n",
       "    </table>\n",
       "    </details>\n",
       "    <details open>\n",
       "        <summary><strong>Channels</strong></summary>\n",
       "        <table class=\"table table-hover table-striped table-sm table-responsive small\">\n",
       "            <tr>\n",
       "                <th>Digitized points</th>\n",
       "                \n",
       "                <td>Not available</td>\n",
       "                \n",
       "            </tr>\n",
       "            <tr>\n",
       "                <th>Good channels</th>\n",
       "                <td>5 EEG</td>\n",
       "            </tr>\n",
       "            <tr>\n",
       "                <th>Bad channels</th>\n",
       "                <td>None</td>\n",
       "            </tr>\n",
       "            <tr>\n",
       "                <th>EOG channels</th>\n",
       "                <td>Not available</td>\n",
       "            </tr>\n",
       "            <tr>\n",
       "                <th>ECG channels</th>\n",
       "                <td>Not available</td>\n",
       "            </tr>\n",
       "        </table>\n",
       "        </details>\n",
       "        <details open>\n",
       "            <summary><strong>Data</strong></summary>\n",
       "            <table class=\"table table-hover table-striped table-sm table-responsive small\">\n",
       "                \n",
       "                <tr>\n",
       "                    <th>Sampling frequency</th>\n",
       "                    <td>515.00 Hz</td>\n",
       "                </tr>\n",
       "                \n",
       "                \n",
       "                <tr>\n",
       "                    <th>Highpass</th>\n",
       "                    <td>0.00 Hz</td>\n",
       "                </tr>\n",
       "                \n",
       "                \n",
       "                <tr>\n",
       "                    <th>Lowpass</th>\n",
       "                    <td>257.50 Hz</td>\n",
       "                </tr>\n",
       "                \n",
       "                \n",
       "                \n",
       "                <tr>\n",
       "                    <th>Filenames</th>\n",
       "                    <td>action_acg_2.edf</td>\n",
       "                </tr>\n",
       "                \n",
       "                \n",
       "                <tr>\n",
       "                    <th>Duration</th>\n",
       "                    <td>00:06:48 (HH:MM:SS)</td>\n",
       "                </tr>\n",
       "                \n",
       "            </table>\n",
       "            </details>"
      ]
     },
     "execution_count": 169,
     "metadata": {},
     "output_type": "execute_result"
    }
   ],
   "execution_count": 169
  },
  {
   "metadata": {
    "ExecuteTime": {
     "end_time": "2024-08-03T10:43:26.555368Z",
     "start_time": "2024-08-03T10:43:26.485557Z"
    }
   },
   "cell_type": "code",
   "source": [
    "df_action = pd.read_excel(os.path.join(path, 'action_2.xlsx'))\n",
    "df_action"
   ],
   "id": "b5a3c5fba3781b8f",
   "outputs": [
    {
     "data": {
      "text/plain": [
       "    序号     动作                               Action      开始时间        动作组\n",
       "0    1     静止                                 Rest  18:03:20        NaN\n",
       "1    2     蹲起                       Squat and rise  18:04:00        10个\n",
       "2    3     跳跃                                 Jump  18:04:40        10个\n",
       "3    4  匀缓速直行  Go straight ahead at a steady speed  18:05:20       10*2\n",
       "4    5   加速直行                Accelerating straight  18:06:20        3*7\n",
       "5    6     绕圈                             Circling  18:06:40  2*1 + 2*1\n",
       "6    7     点头                                  Nod  18:07:40        5*4\n",
       "7    8     摇头                       Shake the head  18:08:20        5*3\n",
       "8    9   忽然摆头               Suddenly turn the head  18:09:00      4*2+1\n",
       "9   10   开合嘴巴             Open and close the mouth  18:09:40        NaN\n",
       "10  11  长时间仰头     Turn on the head for a long time  18:10:20      1+1+1\n",
       "11  12  长时间低头    Turn off the head for a long time  18:11:00        1+1\n",
       "12  13     眨眼                                Blink  18:11:40        5*4"
      ],
      "text/html": [
       "<div>\n",
       "<style scoped>\n",
       "    .dataframe tbody tr th:only-of-type {\n",
       "        vertical-align: middle;\n",
       "    }\n",
       "\n",
       "    .dataframe tbody tr th {\n",
       "        vertical-align: top;\n",
       "    }\n",
       "\n",
       "    .dataframe thead th {\n",
       "        text-align: right;\n",
       "    }\n",
       "</style>\n",
       "<table border=\"1\" class=\"dataframe\">\n",
       "  <thead>\n",
       "    <tr style=\"text-align: right;\">\n",
       "      <th></th>\n",
       "      <th>序号</th>\n",
       "      <th>动作</th>\n",
       "      <th>Action</th>\n",
       "      <th>开始时间</th>\n",
       "      <th>动作组</th>\n",
       "    </tr>\n",
       "  </thead>\n",
       "  <tbody>\n",
       "    <tr>\n",
       "      <th>0</th>\n",
       "      <td>1</td>\n",
       "      <td>静止</td>\n",
       "      <td>Rest</td>\n",
       "      <td>18:03:20</td>\n",
       "      <td>NaN</td>\n",
       "    </tr>\n",
       "    <tr>\n",
       "      <th>1</th>\n",
       "      <td>2</td>\n",
       "      <td>蹲起</td>\n",
       "      <td>Squat and rise</td>\n",
       "      <td>18:04:00</td>\n",
       "      <td>10个</td>\n",
       "    </tr>\n",
       "    <tr>\n",
       "      <th>2</th>\n",
       "      <td>3</td>\n",
       "      <td>跳跃</td>\n",
       "      <td>Jump</td>\n",
       "      <td>18:04:40</td>\n",
       "      <td>10个</td>\n",
       "    </tr>\n",
       "    <tr>\n",
       "      <th>3</th>\n",
       "      <td>4</td>\n",
       "      <td>匀缓速直行</td>\n",
       "      <td>Go straight ahead at a steady speed</td>\n",
       "      <td>18:05:20</td>\n",
       "      <td>10*2</td>\n",
       "    </tr>\n",
       "    <tr>\n",
       "      <th>4</th>\n",
       "      <td>5</td>\n",
       "      <td>加速直行</td>\n",
       "      <td>Accelerating straight</td>\n",
       "      <td>18:06:20</td>\n",
       "      <td>3*7</td>\n",
       "    </tr>\n",
       "    <tr>\n",
       "      <th>5</th>\n",
       "      <td>6</td>\n",
       "      <td>绕圈</td>\n",
       "      <td>Circling</td>\n",
       "      <td>18:06:40</td>\n",
       "      <td>2*1 + 2*1</td>\n",
       "    </tr>\n",
       "    <tr>\n",
       "      <th>6</th>\n",
       "      <td>7</td>\n",
       "      <td>点头</td>\n",
       "      <td>Nod</td>\n",
       "      <td>18:07:40</td>\n",
       "      <td>5*4</td>\n",
       "    </tr>\n",
       "    <tr>\n",
       "      <th>7</th>\n",
       "      <td>8</td>\n",
       "      <td>摇头</td>\n",
       "      <td>Shake the head</td>\n",
       "      <td>18:08:20</td>\n",
       "      <td>5*3</td>\n",
       "    </tr>\n",
       "    <tr>\n",
       "      <th>8</th>\n",
       "      <td>9</td>\n",
       "      <td>忽然摆头</td>\n",
       "      <td>Suddenly turn the head</td>\n",
       "      <td>18:09:00</td>\n",
       "      <td>4*2+1</td>\n",
       "    </tr>\n",
       "    <tr>\n",
       "      <th>9</th>\n",
       "      <td>10</td>\n",
       "      <td>开合嘴巴</td>\n",
       "      <td>Open and close the mouth</td>\n",
       "      <td>18:09:40</td>\n",
       "      <td>NaN</td>\n",
       "    </tr>\n",
       "    <tr>\n",
       "      <th>10</th>\n",
       "      <td>11</td>\n",
       "      <td>长时间仰头</td>\n",
       "      <td>Turn on the head for a long time</td>\n",
       "      <td>18:10:20</td>\n",
       "      <td>1+1+1</td>\n",
       "    </tr>\n",
       "    <tr>\n",
       "      <th>11</th>\n",
       "      <td>12</td>\n",
       "      <td>长时间低头</td>\n",
       "      <td>Turn off the head for a long time</td>\n",
       "      <td>18:11:00</td>\n",
       "      <td>1+1</td>\n",
       "    </tr>\n",
       "    <tr>\n",
       "      <th>12</th>\n",
       "      <td>13</td>\n",
       "      <td>眨眼</td>\n",
       "      <td>Blink</td>\n",
       "      <td>18:11:40</td>\n",
       "      <td>5*4</td>\n",
       "    </tr>\n",
       "  </tbody>\n",
       "</table>\n",
       "</div>"
      ]
     },
     "execution_count": 170,
     "metadata": {},
     "output_type": "execute_result"
    }
   ],
   "execution_count": 170
  },
  {
   "metadata": {
    "ExecuteTime": {
     "end_time": "2024-08-03T10:43:26.571325Z",
     "start_time": "2024-08-03T10:43:26.558361Z"
    }
   },
   "cell_type": "code",
   "source": [
    "def time_to_datetime(time):\n",
    "    h = time.hour\n",
    "    m = time.minute\n",
    "    s = time.second\n",
    "    return datetime.datetime(2024,8,3,h,m,s,tzinfo=datetime.timezone.utc)"
   ],
   "id": "ad7a30be6fb0c24",
   "outputs": [],
   "execution_count": 171
  },
  {
   "metadata": {
    "ExecuteTime": {
     "end_time": "2024-08-03T10:43:26.601246Z",
     "start_time": "2024-08-03T10:43:26.573321Z"
    }
   },
   "cell_type": "code",
   "source": [
    "import numpy as np\n",
    "\n",
    "meas_time = raw.info[\"meas_date\"]\n",
    "df_action['开始时间'] = df_action['开始时间'].apply(lambda x: time_to_datetime(x))\n",
    "onsets = (df_action['开始时间'] - meas_time).apply(lambda x: x.total_seconds())\n",
    "durations = 20\n",
    "descriptions = df_action['动作']\n",
    "annot_action = mne.Annotations(\n",
    "    onsets, durations, descriptions, orig_time=raw.info[\"meas_date\"]\n",
    ")\n",
    "\n",
    "raw.set_annotations(raw.annotations + annot_action)"
   ],
   "id": "ab7202a0468d854c",
   "outputs": [
    {
     "data": {
      "text/plain": [
       "<RawEDF | action_acg_2.edf, 5 x 210120 (408.0 s), ~8.0 MB, data loaded>"
      ],
      "text/html": [
       "<details open>\n",
       "    <summary><strong>General</strong></summary>\n",
       "    <table class=\"table table-hover table-striped table-sm table-responsive small\">\n",
       "        <tr>\n",
       "            <th>Measurement date</th>\n",
       "            \n",
       "            <td>August 03, 2024  18:02:15 GMT</td>\n",
       "            \n",
       "        </tr>\n",
       "        <tr>\n",
       "            <th>Experimenter</th>\n",
       "            \n",
       "            <td>Unknown</td>\n",
       "            \n",
       "        </tr>\n",
       "        <tr>\n",
       "            <th>Participant</th>\n",
       "            \n",
       "            \n",
       "            <td>X</td>\n",
       "            \n",
       "            \n",
       "        </tr>\n",
       "    </table>\n",
       "    </details>\n",
       "    <details open>\n",
       "        <summary><strong>Channels</strong></summary>\n",
       "        <table class=\"table table-hover table-striped table-sm table-responsive small\">\n",
       "            <tr>\n",
       "                <th>Digitized points</th>\n",
       "                \n",
       "                <td>Not available</td>\n",
       "                \n",
       "            </tr>\n",
       "            <tr>\n",
       "                <th>Good channels</th>\n",
       "                <td>5 EEG</td>\n",
       "            </tr>\n",
       "            <tr>\n",
       "                <th>Bad channels</th>\n",
       "                <td>None</td>\n",
       "            </tr>\n",
       "            <tr>\n",
       "                <th>EOG channels</th>\n",
       "                <td>Not available</td>\n",
       "            </tr>\n",
       "            <tr>\n",
       "                <th>ECG channels</th>\n",
       "                <td>Not available</td>\n",
       "            </tr>\n",
       "        </table>\n",
       "        </details>\n",
       "        <details open>\n",
       "            <summary><strong>Data</strong></summary>\n",
       "            <table class=\"table table-hover table-striped table-sm table-responsive small\">\n",
       "                \n",
       "                <tr>\n",
       "                    <th>Sampling frequency</th>\n",
       "                    <td>515.00 Hz</td>\n",
       "                </tr>\n",
       "                \n",
       "                \n",
       "                <tr>\n",
       "                    <th>Highpass</th>\n",
       "                    <td>0.00 Hz</td>\n",
       "                </tr>\n",
       "                \n",
       "                \n",
       "                <tr>\n",
       "                    <th>Lowpass</th>\n",
       "                    <td>257.50 Hz</td>\n",
       "                </tr>\n",
       "                \n",
       "                \n",
       "                \n",
       "                <tr>\n",
       "                    <th>Filenames</th>\n",
       "                    <td>action_acg_2.edf</td>\n",
       "                </tr>\n",
       "                \n",
       "                \n",
       "                <tr>\n",
       "                    <th>Duration</th>\n",
       "                    <td>00:06:48 (HH:MM:SS)</td>\n",
       "                </tr>\n",
       "                \n",
       "            </table>\n",
       "            </details>"
      ]
     },
     "execution_count": 172,
     "metadata": {},
     "output_type": "execute_result"
    }
   ],
   "execution_count": 172
  },
  {
   "metadata": {
    "ExecuteTime": {
     "end_time": "2024-08-03T10:43:26.663080Z",
     "start_time": "2024-08-03T10:43:26.605235Z"
    }
   },
   "cell_type": "code",
   "source": "raw.export(raw.filenames[0].replace('.edf', '_convert.edf'), overwrite=True)",
   "id": "6aa854770918b6a0",
   "outputs": [],
   "execution_count": 173
  },
  {
   "metadata": {
    "ExecuteTime": {
     "end_time": "2024-08-03T10:43:26.679038Z",
     "start_time": "2024-08-03T10:43:26.665075Z"
    }
   },
   "cell_type": "code",
   "source": "",
   "id": "275aeb624a071fa5",
   "outputs": [],
   "execution_count": 173
  },
  {
   "metadata": {},
   "cell_type": "markdown",
   "source": "## 数据不等长问题",
   "id": "1afd1c9d3e016f9e"
  },
  {
   "metadata": {
    "ExecuteTime": {
     "end_time": "2024-08-03T10:43:26.693001Z",
     "start_time": "2024-08-03T10:43:26.681033Z"
    }
   },
   "cell_type": "code",
   "source": "515*(8*60+35)",
   "id": "cd95c3bfe5985fde",
   "outputs": [
    {
     "data": {
      "text/plain": [
       "265225"
      ]
     },
     "execution_count": 174,
     "metadata": {},
     "output_type": "execute_result"
    }
   ],
   "execution_count": 174
  },
  {
   "metadata": {
    "ExecuteTime": {
     "end_time": "2024-08-03T10:43:26.710952Z",
     "start_time": "2024-08-03T10:43:26.695993Z"
    }
   },
   "cell_type": "code",
   "source": "(515*(8*60+35))/500",
   "id": "dd82b8beb0697058",
   "outputs": [
    {
     "data": {
      "text/plain": [
       "530.45"
      ]
     },
     "execution_count": 175,
     "metadata": {},
     "output_type": "execute_result"
    }
   ],
   "execution_count": 175
  },
  {
   "metadata": {
    "ExecuteTime": {
     "end_time": "2024-08-03T10:43:26.739875Z",
     "start_time": "2024-08-03T10:43:26.714943Z"
    }
   },
   "cell_type": "code",
   "source": "(515*(8*60+35))/500 - 8*60+35",
   "id": "8f27a6ffa2558490",
   "outputs": [
    {
     "data": {
      "text/plain": [
       "85.45000000000005"
      ]
     },
     "execution_count": 176,
     "metadata": {},
     "output_type": "execute_result"
    }
   ],
   "execution_count": 176
  },
  {
   "metadata": {
    "ExecuteTime": {
     "end_time": "2024-08-03T10:43:26.756830Z",
     "start_time": "2024-08-03T10:43:26.749849Z"
    }
   },
   "cell_type": "code",
   "source": "",
   "id": "3206b8dfdf7a7da4",
   "outputs": [],
   "execution_count": 176
  }
 ],
 "metadata": {
  "kernelspec": {
   "display_name": "Python 3",
   "language": "python",
   "name": "python3"
  },
  "language_info": {
   "codemirror_mode": {
    "name": "ipython",
    "version": 2
   },
   "file_extension": ".py",
   "mimetype": "text/x-python",
   "name": "python",
   "nbconvert_exporter": "python",
   "pygments_lexer": "ipython2",
   "version": "2.7.6"
  }
 },
 "nbformat": 4,
 "nbformat_minor": 5
}
