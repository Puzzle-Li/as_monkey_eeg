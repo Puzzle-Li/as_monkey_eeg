{
 "cells": [
  {
   "metadata": {},
   "cell_type": "markdown",
   "source": "我们需要了解一下ACG的数值在各个动作中的特点，因此我们演示了以下动作，并记录了ACG数据。每个动作进行了10s。在动作间有10s的静息期。",
   "id": "5286e4a88eff1e37"
  },
  {
   "cell_type": "code",
   "id": "72b2b19d2f7f772a",
   "metadata": {
    "collapsed": true,
    "ExecuteTime": {
     "end_time": "2024-08-03T10:43:26.352923Z",
     "start_time": "2024-08-03T10:43:26.334778Z"
    }
   },
   "source": [
    "import datetime\n",
    "import os.path\n",
    "\n",
    "import mne.io\n",
    "import pandas as pd\n",
    "\n",
    "import dataset as ds"
   ],
   "execution_count": 167,
   "outputs": []
  },
  {
   "metadata": {
    "ExecuteTime": {
     "end_time": "2024-08-03T10:43:26.368882Z",
     "start_time": "2024-08-03T10:43:26.354904Z"
    }
   },
   "cell_type": "code",
   "source": [
    "def acc_to_locomotion2(acc):\n",
    "    loco = np.linalg.norm(acc, axis=0).reshape(1, -1)\n",
    "    return loco"
   ],
   "id": "a444f3e9ddfda2a1",
   "execution_count": 168,
   "outputs": []
  },
  {
   "metadata": {
    "ExecuteTime": {
     "end_time": "2024-08-03T10:43:26.480568Z",
     "start_time": "2024-08-03T10:43:26.402777Z"
    }
   },
   "cell_type": "code",
   "source": [
    "from convert_x8_data import acc_to_locomotion\n",
    "\n",
    "path = os.path.join(ds.path['free_eeg'], 'test', 'acg')\n",
    "raw = mne.io.read_raw_edf(os.path.join(path, 'action_acg_2.edf'), preload=True)\n",
    "\n",
    "loco = acc_to_locomotion(raw.get_data()[-3:, :]) / 1e6\n",
    "loco2 = acc_to_locomotion2(raw.get_data()[-3:, :]) / 1e6\n",
    "loco2 = acc_to_locomotion2(raw.get_data()[-3:, :]) / 1e6\n",
    "raw._data[1, :] = loco\n",
    "# raw._data[0, :] = loco2\n",
    "raw._data[2:, :] /= 1e6\n",
    "\n",
    "raw.rename_channels({'EEG1': 'ACG'})\n",
    "# raw.rename_channels({'EEG0': 'ACG2'})"
   ],
   "id": "initial_id",
   "execution_count": 169,
   "outputs": []
  },
  {
   "metadata": {
    "ExecuteTime": {
     "end_time": "2024-08-03T10:43:26.555368Z",
     "start_time": "2024-08-03T10:43:26.485557Z"
    }
   },
   "cell_type": "code",
   "source": [
    "df_action = pd.read_excel(os.path.join(path, 'action_2.xlsx'))\n",
    "df_action"
   ],
   "id": "b5a3c5fba3781b8f",
   "execution_count": 170,
   "outputs": []
  },
  {
   "metadata": {
    "ExecuteTime": {
     "end_time": "2024-08-03T10:43:26.571325Z",
     "start_time": "2024-08-03T10:43:26.558361Z"
    }
   },
   "cell_type": "code",
   "source": [
    "def time_to_datetime(time):\n",
    "    h = time.hour\n",
    "    m = time.minute\n",
    "    s = time.second\n",
    "    return datetime.datetime(2024,8,3,h,m,s,tzinfo=datetime.timezone.utc)"
   ],
   "id": "ad7a30be6fb0c24",
   "execution_count": 171,
   "outputs": []
  },
  {
   "metadata": {
    "ExecuteTime": {
     "end_time": "2024-08-03T10:43:26.601246Z",
     "start_time": "2024-08-03T10:43:26.573321Z"
    }
   },
   "cell_type": "code",
   "source": [
    "import numpy as np\n",
    "\n",
    "meas_time = raw.info[\"meas_date\"]\n",
    "df_action['开始时间'] = df_action['开始时间'].apply(lambda x: time_to_datetime(x))\n",
    "onsets = (df_action['开始时间'] - meas_time).apply(lambda x: x.total_seconds())\n",
    "durations = 20\n",
    "descriptions = df_action['动作']\n",
    "annot_action = mne.Annotations(\n",
    "    onsets, durations, descriptions, orig_time=raw.info[\"meas_date\"]\n",
    ")\n",
    "\n",
    "raw.set_annotations(raw.annotations + annot_action)"
   ],
   "id": "ab7202a0468d854c",
   "execution_count": 172,
   "outputs": []
  },
  {
   "metadata": {
    "ExecuteTime": {
     "end_time": "2024-08-03T10:43:26.663080Z",
     "start_time": "2024-08-03T10:43:26.605235Z"
    }
   },
   "cell_type": "code",
   "source": "raw.export(raw.filenames[0].replace('.edf', '_convert.edf'), overwrite=True)",
   "id": "6aa854770918b6a0",
   "execution_count": 173,
   "outputs": []
  },
  {
   "metadata": {
    "ExecuteTime": {
     "end_time": "2024-08-03T10:43:26.679038Z",
     "start_time": "2024-08-03T10:43:26.665075Z"
    }
   },
   "cell_type": "code",
   "source": "",
   "id": "275aeb624a071fa5",
   "execution_count": 173,
   "outputs": []
  },
  {
   "metadata": {},
   "cell_type": "markdown",
   "source": "## 数据不等长问题",
   "id": "1afd1c9d3e016f9e"
  },
  {
   "metadata": {
    "ExecuteTime": {
     "end_time": "2024-08-03T10:43:26.693001Z",
     "start_time": "2024-08-03T10:43:26.681033Z"
    }
   },
   "cell_type": "code",
   "source": "515*(8*60+35)",
   "id": "cd95c3bfe5985fde",
   "execution_count": 174,
   "outputs": []
  },
  {
   "metadata": {
    "ExecuteTime": {
     "end_time": "2024-08-03T10:43:26.710952Z",
     "start_time": "2024-08-03T10:43:26.695993Z"
    }
   },
   "cell_type": "code",
   "source": "(515*(8*60+35))/500",
   "id": "dd82b8beb0697058",
   "execution_count": 175,
   "outputs": []
  },
  {
   "metadata": {
    "ExecuteTime": {
     "end_time": "2024-08-03T10:43:26.739875Z",
     "start_time": "2024-08-03T10:43:26.714943Z"
    }
   },
   "cell_type": "code",
   "source": "(515*(8*60+35))/500 - 8*60+35",
   "id": "8f27a6ffa2558490",
   "execution_count": 176,
   "outputs": []
  },
  {
   "metadata": {
    "ExecuteTime": {
     "end_time": "2024-08-03T10:43:26.756830Z",
     "start_time": "2024-08-03T10:43:26.749849Z"
    }
   },
   "cell_type": "code",
   "source": "",
   "id": "3206b8dfdf7a7da4",
   "execution_count": 176,
   "outputs": []
  }
 ],
 "metadata": {
  "kernelspec": {
   "display_name": "Python 3",
   "language": "python",
   "name": "python3"
  },
  "language_info": {
   "codemirror_mode": {
    "name": "ipython",
    "version": 2
   },
   "file_extension": ".py",
   "mimetype": "text/x-python",
   "name": "python",
   "nbconvert_exporter": "python",
   "pygments_lexer": "ipython2",
   "version": "2.7.6"
  }
 },
 "nbformat": 4,
 "nbformat_minor": 5
}
